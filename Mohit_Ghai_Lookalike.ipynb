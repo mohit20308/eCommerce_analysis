{
 "cells": [
  {
   "cell_type": "markdown",
   "id": "68639259",
   "metadata": {},
   "source": [
    "## Importing Libraries"
   ]
  },
  {
   "cell_type": "code",
   "execution_count": 2,
   "id": "497ba81d",
   "metadata": {},
   "outputs": [],
   "source": [
    "import pandas as pd\n",
    "import numpy as np\n",
    "from sklearn.preprocessing import StandardScaler\n",
    "from sklearn.metrics.pairwise import cosine_similarity"
   ]
  },
  {
   "cell_type": "markdown",
   "id": "3f32e9a9",
   "metadata": {},
   "source": [
    "## Loading Dataset"
   ]
  },
  {
   "cell_type": "code",
   "execution_count": 3,
   "id": "340b0ccc",
   "metadata": {},
   "outputs": [],
   "source": [
    "def load_dataset(dataset_name, dataset_path = \"Dataset\\\\\"):\n",
    "    df = pd.read_csv(dataset_path + dataset_name)\n",
    "    return df\n",
    "    \n",
    "customers_df = load_dataset(dataset_name = \"Customers.csv\")\n",
    "products_df = load_dataset(dataset_name = \"Products.csv\")\n",
    "transactions_df = load_dataset(dataset_name = \"Transactions.csv\")"
   ]
  },
  {
   "cell_type": "markdown",
   "id": "4ce1ebf5",
   "metadata": {},
   "source": [
    "### Combining Customer Transaction History Info"
   ]
  },
  {
   "cell_type": "code",
   "execution_count": 4,
   "id": "7675c2fd",
   "metadata": {},
   "outputs": [],
   "source": [
    "transactions_details = transactions_df.groupby('CustomerID').agg(TotalAmount = ('TotalValue', 'sum'), TotalTransactions = ('TransactionID', 'count'), TotalQuantity = ('Quantity', 'sum')).reset_index()\n",
    "dataset = pd.merge(customers_df, transactions_details, on = 'CustomerID', how = 'inner')\n",
    "\n",
    "dummyDataset = pd.get_dummies(dataset['Region'], drop_first = True)\n",
    "dataset = pd.concat([dummyDataset, dataset], axis = 1)\n",
    "ids = dataset['CustomerID']\n",
    "dataset.drop(['Region', 'CustomerID', 'CustomerName', 'SignupDate'], axis = 1, inplace = True)\n",
    "\n",
    "scaler = StandardScaler()\n",
    "scaledData = scaler.fit_transform(dataset)\n",
    "scaledDf = pd.DataFrame(scaledData, columns = ['Europe', 'North America', 'South America',  'TotalAmount', 'TotalTransactions', 'TotalQuantity'])"
   ]
  },
  {
   "cell_type": "markdown",
   "id": "94f41896",
   "metadata": {},
   "source": [
    "### Using Cosine Similarity Metric\n",
    "\n",
    "Find similarity between Customers"
   ]
  },
  {
   "cell_type": "code",
   "execution_count": 5,
   "id": "0667cca4",
   "metadata": {},
   "outputs": [],
   "source": [
    "matrix = cosine_similarity(scaledDf)\n"
   ]
  },
  {
   "cell_type": "code",
   "execution_count": 6,
   "id": "d33ac83a",
   "metadata": {},
   "outputs": [],
   "source": [
    "def get_lookalikes(customer_id):\n",
    "    customer_index = customers_df[customers_df['CustomerID'] == customer_id].index[0]\n",
    "    similarities = matrix[customer_index]\n",
    "    \n",
    "    #Get highest score [Desc order]\n",
    "    similar_customers = np.argsort(similarities)[::-1][1: 4]\n",
    "    \n",
    "    top_lookalikes = customers_df.iloc[similar_customers][['CustomerID']]\n",
    "    top_lookalikes['SimilarityScore'] = similarities[similar_customers]\n",
    "    return top_lookalikes[['CustomerID', 'SimilarityScore']]\n"
   ]
  },
  {
   "cell_type": "code",
   "execution_count": 7,
   "id": "bc4bd593",
   "metadata": {},
   "outputs": [],
   "source": [
    "lookalike_list = []\n",
    "for customer_id in customers_df['CustomerID'][:20]:\n",
    "    lookalike_list.append(get_lookalikes(customer_id))\n",
    "\n",
    "lookalike_df = pd.DataFrame(columns = ['CustomerID', 'LookalikeCustomerID', 'SimilarityScore'])\n",
    "\n",
    "for i, row in customers_df[:20].iterrows():\n",
    "    customer_id = row['CustomerID']\n",
    "    lookalike_df = pd.concat([lookalike_df, pd.DataFrame({'CustomerID': [customer_id] * 3, 'LookalikeCustomerID': lookalike_list[i]['CustomerID'],'SimilarityScore': lookalike_list[i]['SimilarityScore']})], ignore_index=True)\n",
    "\n",
    "lookalike_df.to_csv('Lookalike.csv', index=False)"
   ]
  }
 ],
 "metadata": {
  "kernelspec": {
   "display_name": "Python 3",
   "language": "python",
   "name": "python3"
  },
  "language_info": {
   "codemirror_mode": {
    "name": "ipython",
    "version": 3
   },
   "file_extension": ".py",
   "mimetype": "text/x-python",
   "name": "python",
   "nbconvert_exporter": "python",
   "pygments_lexer": "ipython3",
   "version": "3.7.4"
  }
 },
 "nbformat": 4,
 "nbformat_minor": 5
}
