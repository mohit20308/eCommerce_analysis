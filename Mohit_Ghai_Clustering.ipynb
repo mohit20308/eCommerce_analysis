{
 "cells": [
  {
   "cell_type": "markdown",
   "id": "6affecb5",
   "metadata": {},
   "source": [
    "## Importing Libraries"
   ]
  },
  {
   "cell_type": "code",
   "execution_count": 407,
   "id": "926039e1",
   "metadata": {},
   "outputs": [],
   "source": [
    "import pandas as pd\n",
    "from sklearn.cluster import DBSCAN, KMeans\n",
    "from sklearn.manifold import TSNE\n",
    "import seaborn as sns\n",
    "import matplotlib.pyplot as plt\n",
    "from sklearn.preprocessing import StandardScaler\n",
    "from sklearn.metrics import davies_bouldin_score\n",
    "from prettytable import PrettyTable\n",
    "from sklearn.metrics import silhouette_score"
   ]
  },
  {
   "cell_type": "markdown",
   "id": "48ed5f58",
   "metadata": {},
   "source": [
    "## Loading Dataset"
   ]
  },
  {
   "cell_type": "code",
   "execution_count": 391,
   "id": "bba5eaed",
   "metadata": {},
   "outputs": [],
   "source": [
    "def load_dataset(dataset_name, dataset_path = \"Dataset\\\\\"):\n",
    "    df = pd.read_csv(dataset_path + dataset_name)\n",
    "    return df\n",
    "    \n",
    "customers_df = load_dataset(dataset_name = \"Customers.csv\")\n",
    "transactions_df = load_dataset(dataset_name = \"Transactions.csv\")"
   ]
  },
  {
   "cell_type": "markdown",
   "id": "f843f910",
   "metadata": {},
   "source": [
    "## Dataset\n",
    "\n",
    "I combined the Customers & Transaction Dataframe to form a Single Dataframe  using Inner join using common Column: CustomerID"
   ]
  },
  {
   "cell_type": "code",
   "execution_count": 392,
   "id": "ce4a7671",
   "metadata": {},
   "outputs": [
    {
     "name": "stdout",
     "output_type": "stream",
     "text": [
      "No of Rows:  1000\n",
      "No of Columns:  10\n"
     ]
    },
    {
     "data": {
      "text/html": [
       "<div>\n",
       "<style scoped>\n",
       "    .dataframe tbody tr th:only-of-type {\n",
       "        vertical-align: middle;\n",
       "    }\n",
       "\n",
       "    .dataframe tbody tr th {\n",
       "        vertical-align: top;\n",
       "    }\n",
       "\n",
       "    .dataframe thead th {\n",
       "        text-align: right;\n",
       "    }\n",
       "</style>\n",
       "<table border=\"1\" class=\"dataframe\">\n",
       "  <thead>\n",
       "    <tr style=\"text-align: right;\">\n",
       "      <th></th>\n",
       "      <th>CustomerID</th>\n",
       "      <th>CustomerName</th>\n",
       "      <th>Region</th>\n",
       "      <th>SignupDate</th>\n",
       "      <th>TransactionID</th>\n",
       "      <th>ProductID</th>\n",
       "      <th>TransactionDate</th>\n",
       "      <th>Quantity</th>\n",
       "      <th>TotalValue</th>\n",
       "      <th>Price</th>\n",
       "    </tr>\n",
       "  </thead>\n",
       "  <tbody>\n",
       "    <tr>\n",
       "      <th>0</th>\n",
       "      <td>C0001</td>\n",
       "      <td>Lawrence Carroll</td>\n",
       "      <td>South America</td>\n",
       "      <td>2022-07-10</td>\n",
       "      <td>T00015</td>\n",
       "      <td>P054</td>\n",
       "      <td>2024-01-19 03:12:55</td>\n",
       "      <td>2</td>\n",
       "      <td>114.60</td>\n",
       "      <td>57.30</td>\n",
       "    </tr>\n",
       "    <tr>\n",
       "      <th>1</th>\n",
       "      <td>C0001</td>\n",
       "      <td>Lawrence Carroll</td>\n",
       "      <td>South America</td>\n",
       "      <td>2022-07-10</td>\n",
       "      <td>T00932</td>\n",
       "      <td>P022</td>\n",
       "      <td>2024-09-17 09:01:18</td>\n",
       "      <td>3</td>\n",
       "      <td>412.62</td>\n",
       "      <td>137.54</td>\n",
       "    </tr>\n",
       "    <tr>\n",
       "      <th>2</th>\n",
       "      <td>C0001</td>\n",
       "      <td>Lawrence Carroll</td>\n",
       "      <td>South America</td>\n",
       "      <td>2022-07-10</td>\n",
       "      <td>T00085</td>\n",
       "      <td>P096</td>\n",
       "      <td>2024-04-08 00:01:00</td>\n",
       "      <td>2</td>\n",
       "      <td>614.94</td>\n",
       "      <td>307.47</td>\n",
       "    </tr>\n",
       "  </tbody>\n",
       "</table>\n",
       "</div>"
      ],
      "text/plain": [
       "  CustomerID      CustomerName         Region  SignupDate TransactionID  \\\n",
       "0      C0001  Lawrence Carroll  South America  2022-07-10        T00015   \n",
       "1      C0001  Lawrence Carroll  South America  2022-07-10        T00932   \n",
       "2      C0001  Lawrence Carroll  South America  2022-07-10        T00085   \n",
       "\n",
       "  ProductID      TransactionDate  Quantity  TotalValue   Price  \n",
       "0      P054  2024-01-19 03:12:55         2      114.60   57.30  \n",
       "1      P022  2024-09-17 09:01:18         3      412.62  137.54  \n",
       "2      P096  2024-04-08 00:01:00         2      614.94  307.47  "
      ]
     },
     "execution_count": 392,
     "metadata": {},
     "output_type": "execute_result"
    }
   ],
   "source": [
    "dataset = pd.merge(left = customers_df, right = transactions_df, how = \"inner\", on = \"CustomerID\")\n",
    "print('No of Rows: ', dataset.shape[0])\n",
    "print('No of Columns: ', dataset.shape[1])\n",
    "\n",
    "dataset.head(3)"
   ]
  },
  {
   "cell_type": "markdown",
   "id": "656c145f",
   "metadata": {},
   "source": [
    "## Feature Extraction/Generation"
   ]
  },
  {
   "cell_type": "markdown",
   "id": "095a255f",
   "metadata": {},
   "source": [
    "### Drop Unnecessary Columns"
   ]
  },
  {
   "cell_type": "code",
   "execution_count": 393,
   "id": "d12b7815",
   "metadata": {},
   "outputs": [],
   "source": [
    "dataset.drop(['CustomerName'], axis = 1, inplace = True)"
   ]
  },
  {
   "cell_type": "markdown",
   "id": "18ac0029",
   "metadata": {},
   "source": [
    "### Calculating No of Transactions, Total Amount, Quantity per Customer"
   ]
  },
  {
   "cell_type": "code",
   "execution_count": 394,
   "id": "582a6a73",
   "metadata": {},
   "outputs": [],
   "source": [
    "# No of Transactions per Customer\n",
    "transactionsDf = dataset.groupby('CustomerID')['TransactionID'].count().reset_index()\n",
    "transactionsDf.columns = ['CustomerID', 'NumTransactions']\n",
    "\n",
    "#Total Amount per Customer\n",
    "amountDf = dataset.groupby('CustomerID')['TotalValue'].sum().reset_index()\n",
    "amountDf.columns = ['CustomerID', 'TotalAmount']\n",
    "\n",
    "#Total Quantity per Customer\n",
    "quantityDf = dataset.groupby('CustomerID')['Quantity'].sum().reset_index()\n",
    "quantityDf.columns = ['CustomerID', 'TotalQuantity']\n",
    "\n",
    "#Region\n",
    "regionDf = dataset.groupby('CustomerID')['Region'].first().reset_index()"
   ]
  },
  {
   "cell_type": "code",
   "execution_count": 395,
   "id": "2f0d7001",
   "metadata": {},
   "outputs": [],
   "source": [
    "combDf = pd.merge(left = transactionsDf, right = amountDf, on = 'CustomerID', how = 'inner')\n",
    "combDf2 = pd.merge(left = combDf, right = dataset['CustomerID'].drop_duplicates(), on = 'CustomerID', how = 'inner')\n",
    "newDf = pd.merge(left = combDf2, right = quantityDf, on = 'CustomerID', how='left')\n",
    "\n",
    "newDf['SignupToFirstTransaction'] = (pd.to_datetime(dataset['TransactionDate']) - pd.to_datetime(dataset['SignupDate'])).dt.days"
   ]
  },
  {
   "cell_type": "markdown",
   "id": "ef5e61e9",
   "metadata": {},
   "source": [
    "### Converting Categorical Attribute To Numeric Attribute"
   ]
  },
  {
   "cell_type": "code",
   "execution_count": 396,
   "id": "b9e490d3",
   "metadata": {},
   "outputs": [
    {
     "data": {
      "text/html": [
       "<div>\n",
       "<style scoped>\n",
       "    .dataframe tbody tr th:only-of-type {\n",
       "        vertical-align: middle;\n",
       "    }\n",
       "\n",
       "    .dataframe tbody tr th {\n",
       "        vertical-align: top;\n",
       "    }\n",
       "\n",
       "    .dataframe thead th {\n",
       "        text-align: right;\n",
       "    }\n",
       "</style>\n",
       "<table border=\"1\" class=\"dataframe\">\n",
       "  <thead>\n",
       "    <tr style=\"text-align: right;\">\n",
       "      <th></th>\n",
       "      <th>Europe</th>\n",
       "      <th>North America</th>\n",
       "      <th>South America</th>\n",
       "      <th>NumTransactions</th>\n",
       "      <th>TotalAmount</th>\n",
       "      <th>TotalQuantity</th>\n",
       "      <th>SignupToFirstTransaction</th>\n",
       "    </tr>\n",
       "  </thead>\n",
       "  <tbody>\n",
       "    <tr>\n",
       "      <th>0</th>\n",
       "      <td>0</td>\n",
       "      <td>0</td>\n",
       "      <td>1</td>\n",
       "      <td>5</td>\n",
       "      <td>3354.52</td>\n",
       "      <td>12</td>\n",
       "      <td>558</td>\n",
       "    </tr>\n",
       "    <tr>\n",
       "      <th>1</th>\n",
       "      <td>0</td>\n",
       "      <td>0</td>\n",
       "      <td>0</td>\n",
       "      <td>4</td>\n",
       "      <td>1862.74</td>\n",
       "      <td>10</td>\n",
       "      <td>800</td>\n",
       "    </tr>\n",
       "    <tr>\n",
       "      <th>2</th>\n",
       "      <td>0</td>\n",
       "      <td>0</td>\n",
       "      <td>1</td>\n",
       "      <td>4</td>\n",
       "      <td>2725.38</td>\n",
       "      <td>14</td>\n",
       "      <td>638</td>\n",
       "    </tr>\n",
       "  </tbody>\n",
       "</table>\n",
       "</div>"
      ],
      "text/plain": [
       "   Europe  North America  South America  NumTransactions  TotalAmount  \\\n",
       "0       0              0              1                5      3354.52   \n",
       "1       0              0              0                4      1862.74   \n",
       "2       0              0              1                4      2725.38   \n",
       "\n",
       "   TotalQuantity  SignupToFirstTransaction  \n",
       "0             12                       558  \n",
       "1             10                       800  \n",
       "2             14                       638  "
      ]
     },
     "execution_count": 396,
     "metadata": {},
     "output_type": "execute_result"
    }
   ],
   "source": [
    "newDf['Region'] = regionDf['Region']\n",
    "dummyDataset = pd.get_dummies(newDf['Region'], drop_first = True)\n",
    "newDf = pd.concat([dummyDataset, newDf], axis = 1)\n",
    "newDf.drop(['Region', 'CustomerID'], axis = 1, inplace = True)\n",
    "newDf.head(3)"
   ]
  },
  {
   "cell_type": "markdown",
   "id": "bab879a5",
   "metadata": {},
   "source": [
    "### Feature Scaling"
   ]
  },
  {
   "cell_type": "code",
   "execution_count": 397,
   "id": "c0a47ee2",
   "metadata": {},
   "outputs": [],
   "source": [
    "scaler = StandardScaler()\n",
    "scaledData = scaler.fit_transform(newDf)\n",
    "scaledDf = pd.DataFrame(scaledData, columns = ['Europe', 'North America', 'South America', 'NumTransactions', 'TotalAmount', 'TotalQuantity', 'SignupToFirstTransaction'])"
   ]
  },
  {
   "cell_type": "markdown",
   "id": "89c7fc9a",
   "metadata": {},
   "source": [
    "## KMeans Clustering\n",
    "\n",
    "Different number of clusters are used from 2 to 10"
   ]
  },
  {
   "cell_type": "code",
   "execution_count": 406,
   "id": "76464de0",
   "metadata": {},
   "outputs": [
    {
     "name": "stdout",
     "output_type": "stream",
     "text": [
      "+--------------------------------------------------------+\n",
      "|              Table with Different Metrics              |\n",
      "+----------+----------+---------------+------------------+\n",
      "| Clusters | DB Index | Sum of Square | Silhouette Score |\n",
      "+----------+----------+---------------+------------------+\n",
      "|    2     |   1.64   |    1036.29    |       0.23       |\n",
      "|    3     |   1.41   |     841.77    |       0.26       |\n",
      "|    4     |   1.21   |     663.91    |       0.32       |\n",
      "|    5     |   1.22   |     573.0     |       0.31       |\n",
      "|    6     |   1.24   |     523.12    |       0.3        |\n",
      "|    7     |   1.2    |     474.06    |       0.3        |\n",
      "|    8     |   1.19   |     420.06    |       0.31       |\n",
      "|    9     |   1.12   |     386.29    |       0.32       |\n",
      "|    10    |   1.09   |     362.15    |       0.31       |\n",
      "+----------+----------+---------------+------------------+\n"
     ]
    }
   ],
   "source": [
    "sum_of_square_dis = []\n",
    "clusters = list(range(2, 11))\n",
    "\n",
    "table = PrettyTable()\n",
    "table.field_names = [\"Clusters\", \"DB Index\", \"Sum of Square\", \"Silhouette Score\"]\n",
    "table.title = \"Table with Different Metrics\"\n",
    "\n",
    "for cluster in clusters:    \n",
    "    model = KMeans(n_clusters = cluster, random_state = 8)\n",
    "    kmeans_clusters = model.fit_predict(scaledDf)\n",
    "    sum_of_square_dis.append(model.inertia_)\n",
    "    \n",
    "    dbIndex = davies_bouldin_score(scaledDf, kmeans_clusters)\n",
    "    silhouette = silhouette_score(scaledDf, kmeans_clusters)\n",
    "    \n",
    "    table.add_row([cluster, round(dbIndex, 2), round(model.inertia_, 2), round(silhouette, 2)])\n",
    "    \n",
    "print(table)"
   ]
  },
  {
   "cell_type": "markdown",
   "id": "bb96ab31",
   "metadata": {},
   "source": [
    "## Elbow Curve"
   ]
  },
  {
   "cell_type": "code",
   "execution_count": 418,
   "id": "16f09e9c",
   "metadata": {},
   "outputs": [
    {
     "data": {
      "image/png": "[encoded data removed]",
      "text/plain": [
       "<Figure size 504x360 with 1 Axes>"
      ]
     },
     "metadata": {
      "needs_background": "light"
     },
     "output_type": "display_data"
    }
   ],
   "source": [
    "plt.figure(figsize = (7, 5))\n",
    "\n",
    "plt.plot(clusters, sum_of_square_dis, 'bx-', color = 'firebrick', linewidth = 3, marker = 'o')\n",
    "plt.title('Elbow Method for Optimal Clusters', size=15, color = 'navy', loc ='center', pad = 20)\n",
    "plt.xlabel('Number of Clusters', fontsize = 12, color = 'navy')\n",
    "plt.xticks([2, 4, 6, 8, 10])\n",
    "plt.ylabel('Sum of Square Distance', fontsize = 12, color = 'navy')\n",
    "plt.xticks(fontsize = 11)\n",
    "plt.yticks(fontsize = 11)"
   ]
  },
  {
   "cell_type": "markdown",
   "id": "92516443",
   "metadata": {},
   "source": [
    "### Scatter Plot Representing Clusters"
   ]
  },
  {
   "cell_type": "code",
   "execution_count": 419,
   "id": "ce1b963f",
   "metadata": {},
   "outputs": [
    {
     "name": "stderr",
     "output_type": "stream",
     "text": [
      "C:\\Users\\Dell\\Miniconda3\\lib\\site-packages\\sklearn\\manifold\\_t_sne.py:783: FutureWarning: The default initialization in TSNE will change from 'random' to 'pca' in 1.2.\n",
      "  FutureWarning,\n",
      "C:\\Users\\Dell\\Miniconda3\\lib\\site-packages\\sklearn\\manifold\\_t_sne.py:793: FutureWarning: The default learning rate in TSNE will change from 200.0 to 'auto' in 1.2.\n",
      "  FutureWarning,\n"
     ]
    },
    {
     "data": {
      "image/png": "[encoded data removed]",
      "text/plain": [
       "<Figure size 720x576 with 1 Axes>"
      ]
     },
     "metadata": {
      "needs_background": "light"
     },
     "output_type": "display_data"
    }
   ],
   "source": [
    "# clustering_labels\n",
    "model = KMeans(n_clusters = 10, random_state = 8)\n",
    "clustering_labels = model.fit_predict(scaledDf)\n",
    "\n",
    "tsne = TSNE(n_components = 2, random_state = 0)\n",
    "\n",
    "tsneSamples = tsne.fit_transform(scaledDf)\n",
    "tsneClusteredDf = pd.DataFrame(data = tsneSamples, columns = ['Feature1', 'Feature2'])\n",
    "\n",
    "tsneClusteredDf['Clusters'] = clustering_labels\n",
    "\n",
    "plt.figure(figsize=(10,8))\n",
    "s = sns.scatterplot(x = 'Feature1', y = 'Feature2', data = tsneClusteredDf, hue = 'Clusters', s = 50, palette='pastel', legend='full')\n",
    "s.legend(fontsize = 'large', shadow = True, facecolor = 'white', title = 'Clusters')\n",
    "plt.title(\"Scatter Plot Representing Clusters\", size=16, color='navy', loc ='center', pad = 20)\n",
    "plt.xticks(fontsize = 12)\n",
    "plt.yticks(fontsize = 12)\n",
    "plt.xlabel('Feature1', fontsize = 14, color = 'mediumblue')\n",
    "plt.ylabel('Feature2', fontsize = 14, color = 'mediumblue')"
   ]
  }
 ],
 "metadata": {
  "kernelspec": {
   "display_name": "Python 3",
   "language": "python",
   "name": "python3"
  },
  "language_info": {
   "codemirror_mode": {
    "name": "ipython",
    "version": 3
   },
   "file_extension": ".py",
   "mimetype": "text/x-python",
   "name": "python",
   "nbconvert_exporter": "python",
   "pygments_lexer": "ipython3",
   "version": "3.7.4"
  }
 },
 "nbformat": 4,
 "nbformat_minor": 5
}
